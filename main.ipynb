{
 "cells": [
  {
   "cell_type": "code",
   "execution_count": 5,
   "metadata": {},
   "outputs": [],
   "source": [
    "from tensorflow.keras.preprocessing.image import ImageDataGenerator\n",
    "from tensorflow.keras.applications import VGG16\n",
    "from tensorflow.keras.layers import Dense, Dropout, Flatten\n",
    "from tensorflow.keras import models, layers\n"
   ]
  },
  {
   "cell_type": "code",
   "execution_count": 2,
   "metadata": {},
   "outputs": [
    {
     "name": "stdout",
     "output_type": "stream",
     "text": [
      "Found 19 images belonging to 2 classes.\n"
     ]
    }
   ],
   "source": [
    "train_datagen = ImageDataGenerator(rescale=1./255, shear_range=0.2, zoom_range=0.2, horizontal_flip=True)\n",
    "train_generator = train_datagen.flow_from_directory(\n",
    "    'Training',\n",
    "    target_size=(224, 224),\n",
    "    batch_size=32,\n",
    "    class_mode='binary'\n",
    ")\n"
   ]
  },
  {
   "cell_type": "code",
   "execution_count": 3,
   "metadata": {},
   "outputs": [
    {
     "name": "stdout",
     "output_type": "stream",
     "text": [
      "Found 6 images belonging to 2 classes.\n"
     ]
    }
   ],
   "source": [
    "val_datagen = ImageDataGenerator(rescale=1./255)\n",
    "val_generator = val_datagen.flow_from_directory(\n",
    "    'Valid',\n",
    "    target_size=(224, 224),\n",
    "    batch_size=32,\n",
    "    class_mode='binary'\n",
    ")"
   ]
  },
  {
   "cell_type": "code",
   "execution_count": 36,
   "metadata": {},
   "outputs": [],
   "source": [
    "model = models.Sequential([\n",
    "  layers.Conv2D(32, (3, 3), activation='relu', input_shape=(224, 224, 3)),\n",
    "  layers.MaxPooling2D((2, 2)),\n",
    "  layers.Conv2D(64, (3, 3), activation='relu'),\n",
    "  layers.MaxPooling2D((2, 2)),\n",
    "  layers.Conv2D(128, (3, 3), activation='relu'),\n",
    "  layers.Conv2D(64, (3, 3), activation='relu'),\n",
    "  layers.MaxPooling2D((2, 2)),\n",
    "  layers.Conv2D(128, (3, 3), activation='relu'),\n",
    "  layers.MaxPooling2D((2, 2)),\n",
    "   layers.Conv2D(128, (3, 3), activation='relu'),\n",
    "  layers.MaxPooling2D((2, 2)),\n",
    "   layers.Conv2D(128, (3, 3), activation='relu'),\n",
    "  layers.MaxPooling2D((2, 2)),\n",
    "  layers.Flatten(),\n",
    "  layers.Dense(512, activation='relu'),\n",
    "  layers.Dense(1, activation='sigmoid')\n",
    "])"
   ]
  },
  {
   "cell_type": "code",
   "execution_count": 37,
   "metadata": {},
   "outputs": [],
   "source": [
    "model.compile(optimizer='adam', loss='binary_crossentropy', metrics=['accuracy'])"
   ]
  },
  {
   "cell_type": "code",
   "execution_count": 38,
   "metadata": {},
   "outputs": [
    {
     "name": "stdout",
     "output_type": "stream",
     "text": [
      "Epoch 1/30\n",
      "1/1 [==============================] - 6s 6s/step - loss: 0.6941 - accuracy: 0.4211\n",
      "Epoch 2/30\n",
      "1/1 [==============================] - 3s 3s/step - loss: 0.6857 - accuracy: 0.5789\n",
      "Epoch 3/30\n",
      "1/1 [==============================] - 3s 3s/step - loss: 0.6854 - accuracy: 0.5789\n",
      "Epoch 4/30\n",
      "1/1 [==============================] - 3s 3s/step - loss: 0.6806 - accuracy: 0.5789\n",
      "Epoch 5/30\n",
      "1/1 [==============================] - 3s 3s/step - loss: 0.6780 - accuracy: 0.5789\n",
      "Epoch 6/30\n",
      "1/1 [==============================] - 3s 3s/step - loss: 0.6708 - accuracy: 0.5789\n",
      "Epoch 7/30\n",
      "1/1 [==============================] - 3s 3s/step - loss: 0.6771 - accuracy: 0.5789\n",
      "Epoch 8/30\n",
      "1/1 [==============================] - 3s 3s/step - loss: 0.6623 - accuracy: 0.5789\n",
      "Epoch 9/30\n",
      "1/1 [==============================] - 3s 3s/step - loss: 0.6543 - accuracy: 0.5789\n",
      "Epoch 10/30\n",
      "1/1 [==============================] - 4s 4s/step - loss: 0.6498 - accuracy: 0.5789\n",
      "Epoch 11/30\n",
      "1/1 [==============================] - 4s 4s/step - loss: 0.6396 - accuracy: 0.5789\n",
      "Epoch 12/30\n",
      "1/1 [==============================] - 3s 3s/step - loss: 0.6216 - accuracy: 0.5789\n",
      "Epoch 13/30\n",
      "1/1 [==============================] - 3s 3s/step - loss: 0.5883 - accuracy: 0.5789\n",
      "Epoch 14/30\n",
      "1/1 [==============================] - 3s 3s/step - loss: 0.5835 - accuracy: 0.5789\n",
      "Epoch 15/30\n",
      "1/1 [==============================] - 3s 3s/step - loss: 0.5917 - accuracy: 0.8421\n",
      "Epoch 16/30\n",
      "1/1 [==============================] - 4s 4s/step - loss: 0.5610 - accuracy: 0.7895\n",
      "Epoch 17/30\n",
      "1/1 [==============================] - 3s 3s/step - loss: 0.4656 - accuracy: 0.8947\n",
      "Epoch 18/30\n",
      "1/1 [==============================] - 3s 3s/step - loss: 0.5523 - accuracy: 0.7368\n",
      "Epoch 19/30\n",
      "1/1 [==============================] - 3s 3s/step - loss: 0.5837 - accuracy: 0.6316\n",
      "Epoch 20/30\n",
      "1/1 [==============================] - 4s 4s/step - loss: 0.4595 - accuracy: 0.8421\n",
      "Epoch 21/30\n",
      "1/1 [==============================] - 4s 4s/step - loss: 0.5285 - accuracy: 0.6842\n",
      "Epoch 22/30\n",
      "1/1 [==============================] - 3s 3s/step - loss: 0.4883 - accuracy: 0.6842\n",
      "Epoch 23/30\n",
      "1/1 [==============================] - 3s 3s/step - loss: 0.4814 - accuracy: 0.8421\n",
      "Epoch 24/30\n",
      "1/1 [==============================] - 3s 3s/step - loss: 0.4794 - accuracy: 0.7368\n",
      "Epoch 25/30\n",
      "1/1 [==============================] - 3s 3s/step - loss: 0.4781 - accuracy: 0.7895\n",
      "Epoch 26/30\n",
      "1/1 [==============================] - 4s 4s/step - loss: 0.4543 - accuracy: 0.7368\n",
      "Epoch 27/30\n",
      "1/1 [==============================] - 3s 3s/step - loss: 0.4393 - accuracy: 0.7895\n",
      "Epoch 28/30\n",
      "1/1 [==============================] - 3s 3s/step - loss: 0.3772 - accuracy: 0.7895\n",
      "Epoch 29/30\n",
      "1/1 [==============================] - 3s 3s/step - loss: 0.3059 - accuracy: 0.9474\n",
      "Epoch 30/30\n",
      "1/1 [==============================] - 3s 3s/step - loss: 0.2467 - accuracy: 0.9474\n"
     ]
    },
    {
     "data": {
      "text/plain": [
       "<keras.src.callbacks.History at 0x21580840310>"
      ]
     },
     "execution_count": 38,
     "metadata": {},
     "output_type": "execute_result"
    }
   ],
   "source": [
    "model.fit(train_generator, epochs=30)\n"
   ]
  },
  {
   "cell_type": "code",
   "execution_count": 39,
   "metadata": {},
   "outputs": [
    {
     "name": "stdout",
     "output_type": "stream",
     "text": [
      "1/1 [==============================] - 1s 523ms/step - loss: 1.4408 - accuracy: 0.5000\n"
     ]
    }
   ],
   "source": [
    "validation_results = model.evaluate(val_generator)\n"
   ]
  },
  {
   "cell_type": "code",
   "execution_count": 40,
   "metadata": {},
   "outputs": [
    {
     "name": "stdout",
     "output_type": "stream",
     "text": [
      "Validation Loss: 1.4408460855484009\n",
      "Validation Accuracy: 0.5\n"
     ]
    }
   ],
   "source": [
    "print(\"Validation Loss:\", validation_results[0])\n",
    "print(\"Validation Accuracy:\", validation_results[1])"
   ]
  },
  {
   "cell_type": "code",
   "execution_count": 41,
   "metadata": {},
   "outputs": [
    {
     "name": "stdout",
     "output_type": "stream",
     "text": [
      "1/1 [==============================] - 0s 409ms/step\n"
     ]
    }
   ],
   "source": [
    "validation_predictions = model.predict(val_generator)\n"
   ]
  },
  {
   "cell_type": "code",
   "execution_count": 42,
   "metadata": {},
   "outputs": [
    {
     "name": "stdout",
     "output_type": "stream",
     "text": [
      "Manual Validation Accuracy: 0.5\n"
     ]
    }
   ],
   "source": [
    "import numpy as np\n",
    "\n",
    "# Get true labels\n",
    "true_labels = val_generator.classes\n",
    "\n",
    "predicted_labels = np.round(validation_predictions)\n",
    "\n",
    "accuracy = np.mean(np.equal(true_labels, predicted_labels))\n",
    "print(\"Manual Validation Accuracy:\", accuracy)\n"
   ]
  },
  {
   "cell_type": "code",
   "execution_count": 23,
   "metadata": {},
   "outputs": [],
   "source": [
    "from tensorflow.keras.preprocessing import image\n"
   ]
  },
  {
   "cell_type": "code",
   "execution_count": 49,
   "metadata": {},
   "outputs": [],
   "source": [
    "img_path = 'not4.jpg'  \n",
    "img = image.load_img(img_path, target_size=(224, 224))\n",
    "img_array = image.img_to_array(img)\n",
    "img_array = np.expand_dims(img_array, axis=0)\n",
    "img_array /= 255.0"
   ]
  },
  {
   "cell_type": "code",
   "execution_count": 50,
   "metadata": {},
   "outputs": [
    {
     "name": "stdout",
     "output_type": "stream",
     "text": [
      "1/1 [==============================] - 0s 93ms/step\n",
      "Predicted Label: not out\n"
     ]
    }
   ],
   "source": [
    "prediction = model.predict(img_array)\n",
    "predicted_class = int(round(prediction[0][0]))\n",
    "threshold = 0.5\n",
    "predicted_class = 1 if prediction[0][0] > threshold else 0\n",
    "class_labels = {0: 'not out', 1: 'out'}\n",
    "predicted_label = class_labels[predicted_class]\n",
    "print(\"Predicted Label:\", predicted_label)\n",
    "\n",
    "\n"
   ]
  },
  {
   "cell_type": "code",
   "execution_count": 51,
   "metadata": {},
   "outputs": [],
   "source": [
    "model.save('path.h5')\n"
   ]
  },
  {
   "cell_type": "code",
   "execution_count": 47,
   "metadata": {},
   "outputs": [
    {
     "name": "stdout",
     "output_type": "stream",
     "text": [
      "Predicted Label: out\n"
     ]
    }
   ],
   "source": []
  },
  {
   "cell_type": "code",
   "execution_count": 35,
   "metadata": {},
   "outputs": [
    {
     "name": "stderr",
     "output_type": "stream",
     "text": [
      "c:\\Users\\Talha Fareedi\\AppData\\Local\\Programs\\Python\\Python310\\lib\\site-packages\\keras\\src\\engine\\training.py:3079: UserWarning: You are saving your model as an HDF5 file via `model.save()`. This file format is considered legacy. We recommend using instead the native Keras format, e.g. `model.save('my_model.keras')`.\n",
      "  saving_api.save_model(\n"
     ]
    }
   ],
   "source": []
  }
 ],
 "metadata": {
  "kernelspec": {
   "display_name": "Python 3",
   "language": "python",
   "name": "python3"
  },
  "language_info": {
   "codemirror_mode": {
    "name": "ipython",
    "version": 3
   },
   "file_extension": ".py",
   "mimetype": "text/x-python",
   "name": "python",
   "nbconvert_exporter": "python",
   "pygments_lexer": "ipython3",
   "version": "3.10.0"
  }
 },
 "nbformat": 4,
 "nbformat_minor": 2
}
